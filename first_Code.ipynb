{
 "cells": [
  {
   "cell_type": "code",
   "execution_count": 10,
   "metadata": {},
   "outputs": [
    {
     "data": {
      "text/plain": [
       "['Hearts',\n",
       " 'Diamonds',\n",
       " 'Spades',\n",
       " 'Clubs',\n",
       " 'Jack',\n",
       " 'Jocker',\n",
       " 'Queen',\n",
       " 'King',\n",
       " 'Ace',\n",
       " 1,\n",
       " 2,\n",
       " 3,\n",
       " 4,\n",
       " 5,\n",
       " 6,\n",
       " 7,\n",
       " 8,\n",
       " 9,\n",
       " 10]"
      ]
     },
     "metadata": {},
     "output_type": "display_data"
    },
    {
     "data": {
      "text/plain": [
       "('Spades', ' of ', 9)"
      ]
     },
     "metadata": {},
     "output_type": "display_data"
    }
   ],
   "source": [
    "import random \n",
    "\n",
    "suits = [\"Hearts\", \"Diamonds\", \"Spades\", \"Clubs\"]\n",
    "faces = [\"Jack\", \"Jocker\", \"Queen\", \"King\", \"Ace\"]\n",
    "numbered =[1,2,3,4,5,6,7,8,9,10]\n",
    "\n",
    "def cards():\n",
    "    return suits + faces + numbered\n",
    "\n",
    "def draw():\n",
    "    the_suite = random.choice(suits)\n",
    "    the_card = random.choice(faces + numbered)\n",
    "    return the_card , \" of \",  the_suite\n",
    "\n",
    "\n",
    "display (cards())\n",
    "display (draw())"
   ]
  },
  {
   "cell_type": "code",
   "execution_count": 11,
   "metadata": {},
   "outputs": [
    {
     "data": {
      "text/plain": [
       "['Hearts',\n",
       " 'Diamonds',\n",
       " 'Spades',\n",
       " 'Clubs',\n",
       " 'Jack',\n",
       " 'Jocker',\n",
       " 'Queen',\n",
       " 'King',\n",
       " 'Ace',\n",
       " 1,\n",
       " 2,\n",
       " 3,\n",
       " 4,\n",
       " 5,\n",
       " 6,\n",
       " 7,\n",
       " 8,\n",
       " 9,\n",
       " 10]"
      ]
     },
     "execution_count": 11,
     "metadata": {},
     "output_type": "execute_result"
    }
   ],
   "source": [
    "cards ()"
   ]
  },
  {
   "cell_type": "code",
   "execution_count": 20,
   "metadata": {},
   "outputs": [
    {
     "name": "stdout",
     "output_type": "stream",
     "text": [
      "('Diamonds', ' of ', 'King')\n"
     ]
    }
   ],
   "source": [
    "print ( draw())"
   ]
  },
  {
   "cell_type": "code",
   "execution_count": 21,
   "metadata": {},
   "outputs": [
    {
     "name": "stdout",
     "output_type": "stream",
     "text": [
      "('Clubs', ' of ', 4)\n"
     ]
    }
   ],
   "source": [
    "print (draw())"
   ]
  },
  {
   "cell_type": "code",
   "execution_count": null,
   "metadata": {},
   "outputs": [],
   "source": []
  }
 ],
 "metadata": {
  "kernelspec": {
   "display_name": "Python 3",
   "language": "python",
   "name": "python3"
  },
  "language_info": {
   "codemirror_mode": {
    "name": "ipython",
    "version": 3
   },
   "file_extension": ".py",
   "mimetype": "text/x-python",
   "name": "python",
   "nbconvert_exporter": "python",
   "pygments_lexer": "ipython3",
   "version": "3.8.10"
  },
  "orig_nbformat": 4
 },
 "nbformat": 4,
 "nbformat_minor": 2
}
