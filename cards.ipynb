{
 "cells": [
  {
   "cell_type": "code",
   "execution_count": null,
   "metadata": {},
   "outputs": [
    {
     "name": "stdout",
     "output_type": "stream",
     "text": [
      "Type of deck variable  <class 'set'>\n",
      "Type of suits variable <class 'list'>\n",
      "Type of numbered variable  <class 'list'>\n",
      "Aces added to Deck\n",
      "Diamonds added to Deck\n",
      "Clubs added to Deck\n",
      "Hearts added to Deck\n",
      "{('Club', ' of ', 'King'), ('Club', ' of ', 'Jack'), ('Diamond', ' of ', 'King'), ('Club', ' of ', 5), ('Club', ' of ', 2), ('Club', ' of ', 8), ('Diamond', ' of ', 'Jack'), ('Ace', ' of ', 'Queen'), ('Ace', ' of ', 6), ('Diamond', ' of ', 2), ('Diamond', ' of ', 5), ('Ace', ' of ', 3), ('Ace', ' of ', 9), ('Diamond', ' of ', 8), ('Heart', ' of ', 'King'), ('Heart', ' of ', 2), ('Heart', ' of ', 'Jack'), ('Heart', ' of ', 5), ('Heart', ' of ', 8), ('Club', ' of ', 'Ace'), ('Diamond', ' of ', 'Ace'), ('Ace', ' of ', 'King'), ('Club', ' of ', 1), ('Club', ' of ', 7), ('Club', ' of ', 4), ('Ace', ' of ', 'Jack'), ('Diamond', ' of ', 1), ('Ace', ' of ', 2), ('Diamond', ' of ', 4), ('Ace', ' of ', 5), ('Heart', ' of ', 'Ace'), ('Diamond', ' of ', 7), ('Ace', ' of ', 8), ('Heart', ' of ', 1), ('Heart', ' of ', 7), ('Heart', ' of ', 4), ('Ace', ' of ', 'Ace'), ('Club', ' of ', 'Queen'), ('Club', ' of ', 3), ('Club', ' of ', 6), ('Diamond', ' of ', 3), ('Ace', ' of ', 4), ('Diamond', ' of ', 'Queen'), ('Diamond', ' of ', 6), ('Ace', ' of ', 1), ('Ace', ' of ', 7), ('Club', ' of ', 9), ('Diamond', ' of ', 9), ('Heart', ' of ', 'Queen'), ('Heart', ' of ', 3), ('Heart', ' of ', 9), ('Heart', ' of ', 6)}\n",
      "Size of deck  52\n",
      "('Diamond', ' of ', 9)\n",
      "('Club', ' of ', 4)\n",
      "Type of __ variable  <class 'tuple'>\n",
      "Not found yet\n",
      "Not found yet\n",
      "Not found yet\n",
      "Not found yet\n",
      "Not found yet\n",
      "Not found yet\n",
      "Not found yet\n",
      "Not found yet\n",
      "Not found yet\n",
      "Not found yet\n",
      "Not found yet\n",
      "Not found yet\n",
      "Not found yet\n",
      "Not found yet\n",
      "Not found yet\n",
      "Not found yet\n",
      "Not found yet\n",
      "Not found yet\n",
      "Not found yet\n",
      "Not found yet\n",
      "Not found yet\n",
      "Not found yet\n",
      "Not found yet\n",
      "Not found yet\n",
      "found it\n"
     ]
    }
   ],
   "source": [
    "import random\n",
    "\n",
    "\n",
    "# Define the Lists of Cards \n",
    "suites = ['Ace', 'Diamond', 'Club', 'Heart']\n",
    "faces =['Jack', 'Queen', 'King', 'Ace']\n",
    "numbered =[1,2,3,4,5,6,7,8,9]\n",
    "\n",
    "\n",
    "# define a Set \n",
    "deck = set()\n",
    "print('Type of deck variable ',type(deck))\n",
    "\n",
    "\n",
    "print ('Type of suits variable',type(suites))\n",
    "print ('Type of numbered variable ',type(numbered))\n",
    "\n",
    "# add the list of cards to the set \n",
    "for suitLoopVariable in suites:\n",
    "    for numberedFaceVariable in faces+numbered:\n",
    "        # adding the tuples to the Set; \n",
    "        # This is a set of Tuples ; \n",
    "        # You cant add list here as its mutable. Dictionay Keys cant be mutable and thus cant be hashed \n",
    "        deck.add ((suitLoopVariable, ' of ', numberedFaceVariable))\n",
    "    print (suitLoopVariable + \"s added to Deck\")    \n",
    "\n",
    "print (deck)\n",
    "print('Size of deck ', len(deck))\n",
    "\n",
    "\n",
    "def pick_a_random_card_do_not_draw():\n",
    "    __ = random.choice(suites), ' of ', random.choice (faces + numbered)\n",
    "    print (__)\n",
    "    print ('Type of __ variable ',type(__))\n",
    "    return __\n",
    "\n",
    "def draw():\n",
    "    # Select a random card from the Set; convert to Tuple/List \n",
    "    card = random.choice (list(deck))\n",
    "    deck.remove(card)\n",
    "    return card\n",
    "\n",
    "print (draw())\n",
    "\n",
    "anotherCard = pick_a_random_card_do_not_draw()\n",
    "for deckLoopVaiable in deck:\n",
    "    if anotherCard == deckLoopVaiable:\n",
    "        print (\"found it\")\n",
    "        break\n",
    "    else:\n",
    "        print (\"Not found yet\")\n",
    "\n",
    "\n",
    "\n",
    "\n",
    "    \n",
    "    \n",
    "\n",
    "\n"
   ]
  },
  {
   "cell_type": "code",
   "execution_count": null,
   "metadata": {},
   "outputs": [],
   "source": [
    "print (range(1,5))"
   ]
  },
  {
   "cell_type": "code",
   "execution_count": null,
   "metadata": {},
   "outputs": [],
   "source": [
    "range (4)"
   ]
  },
  {
   "cell_type": "code",
   "execution_count": null,
   "metadata": {},
   "outputs": [],
   "source": []
  },
  {
   "cell_type": "code",
   "execution_count": null,
   "metadata": {},
   "outputs": [],
   "source": []
  },
  {
   "cell_type": "code",
   "execution_count": null,
   "metadata": {},
   "outputs": [],
   "source": [
    "import this"
   ]
  },
  {
   "cell_type": "code",
   "execution_count": 26,
   "metadata": {},
   "outputs": [],
   "source": [
    "import antigravity"
   ]
  },
  {
   "cell_type": "code",
   "execution_count": null,
   "metadata": {},
   "outputs": [],
   "source": [
    "GuestList = []\n",
    "dir (GuestList)\n"
   ]
  },
  {
   "cell_type": "code",
   "execution_count": null,
   "metadata": {},
   "outputs": [],
   "source": []
  }
 ],
 "metadata": {
  "kernelspec": {
   "display_name": "Python 3",
   "language": "python",
   "name": "python3"
  },
  "language_info": {
   "codemirror_mode": {
    "name": "ipython",
    "version": 3
   },
   "file_extension": ".py",
   "mimetype": "text/x-python",
   "name": "python",
   "nbconvert_exporter": "python",
   "pygments_lexer": "ipython3",
   "version": "3.8.10"
  },
  "orig_nbformat": 4
 },
 "nbformat": 4,
 "nbformat_minor": 2
}
