{
 "cells": [
  {
   "cell_type": "code",
   "execution_count": null,
   "metadata": {},
   "outputs": [
    {
     "data": {
      "text/plain": [
       "('Darius', '13', '100m', 'Fly', 8657.5, '1:26.58')"
      ]
     },
     "execution_count": 2,
     "metadata": {},
     "output_type": "execute_result"
    }
   ],
   "source": [
    "import statistics\n",
    "\n",
    "FILENAME = \"Darius-13-100m-Fly.txt\"\n",
    "FOLDERNAME = \"C:\\\\Users\\\\gaurav\\\\Dropbox\\\\Python Programming\\\\headfirst\\\\swimdata\\\\\"\n",
    "\n",
    "\n",
    "\n",
    "def read_swim_data (FOLDERNAME: str, FILENAME: str):\n",
    "\n",
    "    swimmer, age, distance, stroke = FILENAME.removesuffix(\".txt\").split(\"-\")\n",
    "\n",
    "    with open(FOLDERNAME + FILENAME) as fileObject:\n",
    "        allLines = fileObject.readline().strip()\n",
    "\n",
    "    timeSTRList = allLines.split(\",\")\n",
    "    timeINTList = []\n",
    "\n",
    "    for times in timeSTRList:\n",
    "        minutes, seconds = times.split(\":\")\n",
    "        seconds, miliSeconds = seconds.split(\".\")\n",
    "        timeINTList.append (int(minutes)*60 *100 +int(seconds)*100+int(miliSeconds))\n",
    "\n",
    "\n",
    "    avg = statistics.mean(timeINTList)\n",
    "\n",
    "    minutes = int(avg//(60*100))\n",
    "    seconds, miliSeconds = str(round(avg/100 ,2)).split(\".\")\n",
    "    seconds = int(seconds) - minutes*60\n",
    "\n",
    "    avgSTR = str(minutes) +\":\"+str(seconds)+ \".\"+ str(miliSeconds)\n",
    "\n",
    "\n",
    "    return swimmer, age, distance, stroke, avg, avgSTR\n",
    "\n",
    "\n",
    "swimmerInfo (FOLDERNAME, FILENAME)\n",
    "\n"
   ]
  },
  {
   "cell_type": "code",
   "execution_count": null,
   "metadata": {},
   "outputs": [],
   "source": []
  },
  {
   "cell_type": "code",
   "execution_count": null,
   "metadata": {},
   "outputs": [],
   "source": [
    "\n",
    "\n"
   ]
  },
  {
   "cell_type": "markdown",
   "metadata": {},
   "source": []
  },
  {
   "cell_type": "markdown",
   "metadata": {},
   "source": []
  }
 ],
 "metadata": {
  "kernelspec": {
   "display_name": "Python 3",
   "language": "python",
   "name": "python3"
  },
  "language_info": {
   "codemirror_mode": {
    "name": "ipython",
    "version": 3
   },
   "file_extension": ".py",
   "mimetype": "text/x-python",
   "name": "python",
   "nbconvert_exporter": "python",
   "pygments_lexer": "ipython3",
   "version": "3.13.2"
  }
 },
 "nbformat": 4,
 "nbformat_minor": 2
}
