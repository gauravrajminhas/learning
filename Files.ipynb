{
 "cells": [
  {
   "cell_type": "markdown",
   "metadata": {},
   "source": []
  },
  {
   "cell_type": "code",
   "execution_count": 5,
   "metadata": {},
   "outputs": [
    {
     "name": "stdout",
     "output_type": "stream",
     "text": [
      "1 Abi-10-100m-Back.txt 1:31.81\n",
      "2 Abi-10-100m-Breast.txt 1:42.53\n",
      "3 Abi-10-50m-Back.txt 0:41.43\n",
      "4 Abi-10-50m-Breast.txt 0:48.54\n",
      "5 Abi-10-50m-Free.txt 0:38.07\n",
      "6 Ali-12-100m-Back.txt 1:39.49\n",
      "7 Ali-12-100m-Free.txt 1:24.42\n",
      "8 Alison-14-100m-Breast.txt 1:36.7\n",
      "9 Alison-14-100m-Free.txt 1:12.88\n",
      "10 Aurora-13-50m-Free.txt 0:29.89\n",
      "11 Bill-18-100m-Back.txt 1:7.18\n",
      "12 Bill-18-200m-Back.txt 2:26.02\n",
      "13 Blake-15-100m-Back.txt 1:14.8\n",
      "14 Blake-15-100m-Fly.txt 1:11.06\n",
      "15 Blake-15-100m-Free.txt 1:3.76\n",
      "16 Calvin-9-50m-Back.txt 0:40.02\n",
      "17 Calvin-9-50m-Fly.txt 0:39.73\n",
      "18 Calvin-9-50m-Free.txt 0:35.55\n",
      "19 Carl-15-100m-Back.txt 1:27.21\n",
      "20 Chris-17-100m-Back.txt 1:22.67\n",
      "21 Chris-17-100m-Breast.txt 1:28.89\n",
      "22 Darius-13-100m-Back.txt 1:24.11\n",
      "23 Darius-13-100m-Breast.txt 1:32.04\n",
      "24 Darius-13-100m-Fly.txt 1:26.58\n",
      "25 Darius-13-200m-IM.txt 3:1.26\n",
      "26 Dave-17-100m-Free.txt 0:59.21\n",
      "27 Dave-17-200m-Back.txt 2:31.99\n",
      "28 Elba-14-100m-Free.txt 1:6.09\n",
      "29 Emma-13-100m-Breast.txt 1:58.66\n",
      "30 Emma-13-100m-Free.txt 1:32.14\n",
      "31 Erika-15-100m-Breast.txt 1:34.18\n",
      "32 Erika-15-100m-Free.txt 1:18.82\n",
      "33 Erika-15-200m-Breast.txt 3:30.94\n",
      "34 Hannah-13-100m-Back.txt 1:33.78\n",
      "35 Hannah-13-100m-Free.txt 1:22.46\n",
      "36 Katie-9-100m-Back.txt 1:32.17\n",
      "37 Katie-9-100m-Breast.txt 1:50.72\n",
      "38 Katie-9-100m-Free.txt 1:22.97\n",
      "39 Katie-9-50m-Back.txt 0:45.6\n",
      "40 Katie-9-50m-Breast.txt 0:53.42\n",
      "41 Katie-9-50m-Fly.txt 0:46.38\n",
      "42 Katie-9-50m-Free.txt 0:40.34\n",
      "43 Lizzie-14-100m-Back.txt 1:29.2\n",
      "44 Lizzie-14-100m-Free.txt 1:15.38\n",
      "45 Maria-9-50m-Free.txt 0:42.22\n",
      "46 Mike-15-100m-Back.txt 1:15.71\n",
      "47 Mike-15-100m-Fly.txt 1:10.6\n",
      "48 Mike-15-100m-Free.txt 1:4.13\n",
      "49 Mike-15-200m-Free.txt 2:31.62\n",
      "50 Mike-15-200m-IM.txt 2:46.47\n",
      "51 Owen-15-100m-Free.txt 1:15.67\n",
      "52 Ruth-13-100m-Back.txt 1:18.05\n",
      "53 Ruth-13-100m-Free.txt 1:10.17\n",
      "54 Ruth-13-200m-Back.txt 2:45.84\n",
      "55 Ruth-13-200m-Free.txt 2:27.25\n",
      "56 Ruth-13-400m-Free.txt 5:9.79\n",
      "57 Tasmin-15-100m-Back.txt 1:18.14\n",
      "58 Tasmin-15-100m-Breast.txt 1:23.3\n",
      "59 Tasmin-15-100m-Free.txt 1:9.91\n",
      "60 Tasmin-15-200m-Breast.txt 2:59.53\n"
     ]
    }
   ],
   "source": [
    "import swimclub \n",
    "import os\n",
    "\n",
    "FOLDERNAME = \"C:\\\\Users\\\\gaurav\\\\Dropbox\\\\Python Programming\\\\headfirst\\\\swimdata\\\\\"\n",
    "\n",
    "fileList = os.listdir(FOLDERNAME)\n",
    "##print(sorted(fileList))\n",
    "fileList.remove(\".DS_Store\")\n",
    "\n",
    "\n",
    "for count, files in enumerate(fileList,1):\n",
    "    print(count, files, swimclub.read_swim_data(FOLDERNAME, files)[6])\n",
    "\n",
    "\n",
    "\n"
   ]
  },
  {
   "cell_type": "code",
   "execution_count": 6,
   "metadata": {},
   "outputs": [
    {
     "name": "stdout",
     "output_type": "stream",
     "text": [
      "Help on built-in function clear:\n",
      "\n",
      "clear() method of builtins.list instance\n",
      "    Remove all items from list.\n",
      "\n"
     ]
    }
   ],
   "source": [
    "help(fileList.clear)"
   ]
  },
  {
   "cell_type": "markdown",
   "metadata": {},
   "source": []
  }
 ],
 "metadata": {
  "kernelspec": {
   "display_name": "Python 3",
   "language": "python",
   "name": "python3"
  },
  "language_info": {
   "codemirror_mode": {
    "name": "ipython",
    "version": 3
   },
   "file_extension": ".py",
   "mimetype": "text/x-python",
   "name": "python",
   "nbconvert_exporter": "python",
   "pygments_lexer": "ipython3",
   "version": "3.13.2"
  }
 },
 "nbformat": 4,
 "nbformat_minor": 2
}
